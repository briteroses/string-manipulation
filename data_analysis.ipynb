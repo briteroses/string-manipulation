{
 "cells": [
  {
   "cell_type": "code",
   "execution_count": 1,
   "metadata": {},
   "outputs": [],
   "source": [
    "import pandas as pd\n",
    "from pathlib import Path\n",
    "import json\n",
    "import os\n",
    "\n",
    "\n",
    "def judging_to_csv(judge_type=\"val_judging\"):\n",
    "    judging_path = Path(os.getcwd()) / f\"experiments/experiment_data/composition_experiment/{judge_type}\"\n",
    "\n",
    "    data = []\n",
    "\n",
    "    for json_file in judging_path.glob(\"*.json\"):\n",
    "        with open(json_file, 'r') as file:\n",
    "            content = json.load(file)\n",
    "        \n",
    "        header_info = content[\"HEADER\"]\n",
    "        row_data = header_info.copy()\n",
    "        \n",
    "        for key, value in content.items():\n",
    "            if key != \"HEADER\":\n",
    "                row_data[key] = value[\"asr\"]\n",
    "        data.append(row_data)\n",
    "\n",
    "    df = pd.DataFrame(data)\n",
    "    df.fillna(value=pd.NA, inplace=True)\n",
    "\n",
    "    # Define the path for saving the DataFrame as a CSV\n",
    "    csv_output_path = Path(os.getcwd()) / \"experiments/experiment_data/composition_experiment/csvs\"\n",
    "    csv_output_path.mkdir(parents=True, exist_ok=True)\n",
    "    csv_file_path = csv_output_path / f\"{judge_type}.csv\"\n",
    "    df.to_csv(csv_file_path, index=False)\n",
    "\n",
    "    return csv_file_path\n",
    "\n",
    "\n",
    "csv_file_path = judging_to_csv()\n"
   ]
  },
  {
   "cell_type": "code",
   "execution_count": 2,
   "metadata": {},
   "outputs": [],
   "source": [
    "df = pd.read_csv(csv_file_path)\n",
    "# Extract the columns containing ASR values, which are all columns after the first four hyperparameter columns\n",
    "asr_columns = df.columns[4:]\n",
    "\n",
    "# Calculate the max, min, mean, std for each row for the ASR columns\n",
    "df['max_asr'] = df[asr_columns].max(axis=1, skipna=True)\n",
    "df['min_asr'] = df[asr_columns].min(axis=1, skipna=True)\n",
    "df['mean_asr'] = df[asr_columns].mean(axis=1, skipna=True)\n",
    "df['std_asr'] = df[asr_columns].std(axis=1, skipna=True)\n",
    "\n",
    "# Reorder the columns to place the new stats columns right after the hyperparameter columns\n",
    "hyperparameter_columns = df.columns[:4]\n",
    "new_asr_stats_columns = ['max_asr', 'min_asr', 'mean_asr', 'std_asr']\n",
    "df = df[hyperparameter_columns.tolist() + new_asr_stats_columns + asr_columns.tolist()]\n",
    "\n",
    "df.to_csv(csv_file_path, index=False)\n",
    "\n"
   ]
  },
  {
   "cell_type": "code",
   "execution_count": 3,
   "metadata": {},
   "outputs": [
    {
     "name": "stderr",
     "output_type": "stream",
     "text": [
      "/Users/brianhuang/miniconda3/envs/shieldbreak/lib/python3.12/site-packages/tqdm-4.66.2-py3.12.egg/tqdm/auto.py:21: TqdmWarning: IProgress not found. Please update jupyter and ipywidgets. See https://ipywidgets.readthedocs.io/en/stable/user_install.html\n",
      "  from .autonotebook import tqdm as notebook_tqdm\n",
      "Failed to detect the name of this notebook, you can set it manually with the WANDB_NOTEBOOK_NAME environment variable to enable code saving.\n",
      "\u001b[34m\u001b[1mwandb\u001b[0m: Currently logged in as: \u001b[33mltang\u001b[0m (\u001b[33mcrtsn\u001b[0m). Use \u001b[1m`wandb login --relogin`\u001b[0m to force relogin\n"
     ]
    },
    {
     "data": {
      "text/html": [
       "Tracking run with wandb version 0.17.0"
      ],
      "text/plain": [
       "<IPython.core.display.HTML object>"
      ]
     },
     "metadata": {},
     "output_type": "display_data"
    },
    {
     "data": {
      "text/html": [
       "Run data is saved locally in <code>/Users/brianhuang/Desktop/string-manipulation/wandb/run-20240531_182714-as5leniv</code>"
      ],
      "text/plain": [
       "<IPython.core.display.HTML object>"
      ]
     },
     "metadata": {},
     "output_type": "display_data"
    },
    {
     "data": {
      "text/html": [
       "Syncing run <strong><a href='https://wandb.ai/crtsn/string-transformation/runs/as5leniv' target=\"_blank\">05/31/2024-18:27:13-string-transformation</a></strong> to <a href='https://wandb.ai/crtsn/string-transformation' target=\"_blank\">Weights & Biases</a> (<a href='https://wandb.me/run' target=\"_blank\">docs</a>)<br/>"
      ],
      "text/plain": [
       "<IPython.core.display.HTML object>"
      ]
     },
     "metadata": {},
     "output_type": "display_data"
    },
    {
     "data": {
      "text/html": [
       " View project at <a href='https://wandb.ai/crtsn/string-transformation' target=\"_blank\">https://wandb.ai/crtsn/string-transformation</a>"
      ],
      "text/plain": [
       "<IPython.core.display.HTML object>"
      ]
     },
     "metadata": {},
     "output_type": "display_data"
    },
    {
     "data": {
      "text/html": [
       " View run at <a href='https://wandb.ai/crtsn/string-transformation/runs/as5leniv' target=\"_blank\">https://wandb.ai/crtsn/string-transformation/runs/as5leniv</a>"
      ],
      "text/plain": [
       "<IPython.core.display.HTML object>"
      ]
     },
     "metadata": {},
     "output_type": "display_data"
    },
    {
     "data": {
      "text/plain": [
       "'fb9ebbd7a739bf2576092085058c19c4ccb051ab127b9c75'"
      ]
     },
     "execution_count": 3,
     "metadata": {},
     "output_type": "execute_result"
    },
    {
     "name": "stderr",
     "output_type": "stream",
     "text": [
      "wandb: Network error (ConnectionError), entering retry loop.\n"
     ]
    }
   ],
   "source": [
    "from experiments.composition import CompositionExperiment\n",
    "from models.black_box_model import GPT4_Turbo\n",
    "from string_transformations.string_transformations import Binary, Id, Leetspeak\n",
    "\n",
    "\n",
    "hparams = {\n",
    "    \"k_num_transforms\": 4,\n",
    "    \"maybe_transformation_instructions\": True,\n",
    "    \"other_transform\": Leetspeak.construct(),\n",
    "    \"composition_target\": \"response\",\n",
    "}\n",
    "target_model = GPT4_Turbo()\n",
    "\n",
    "ce = CompositionExperiment(target_model=target_model, num_attack_trials=0, hyperparameter_grid={k: [v,] for k, v in hparams.items()})\n",
    "\n",
    "ce.data_path(**hparams)"
   ]
  }
 ],
 "metadata": {
  "kernelspec": {
   "display_name": "shieldbreak",
   "language": "python",
   "name": "python3"
  },
  "language_info": {
   "codemirror_mode": {
    "name": "ipython",
    "version": 3
   },
   "file_extension": ".py",
   "mimetype": "text/x-python",
   "name": "python",
   "nbconvert_exporter": "python",
   "pygments_lexer": "ipython3",
   "version": "3.12.1"
  }
 },
 "nbformat": 4,
 "nbformat_minor": 2
}
